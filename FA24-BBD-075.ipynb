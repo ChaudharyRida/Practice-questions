{
 "cells": [
  {
   "cell_type": "markdown",
   "id": "40a4b72d",
   "metadata": {},
   "source": [
    "## Practice Exercises"
   ]
  },
  {
   "cell_type": "code",
   "execution_count": 18,
   "id": "5aec01ae",
   "metadata": {},
   "outputs": [
    {
     "name": "stdout",
     "output_type": "stream",
     "text": [
      "Hello, Alice! The current time is 2024-11-28 12:38:32.\n"
     ]
    }
   ],
   "source": [
    "#simple function\n",
    "from datetime import datetime\n",
    "\n",
    "def greet_with_time(name):\n",
    "    # Get the current time\n",
    "    current_time = datetime.now()\n",
    "    \n",
    "    year = current_time.year\n",
    "    month = current_time.month\n",
    "    day = current_time.day\n",
    "    hour = current_time.hour\n",
    "    minute = current_time.minute\n",
    "    second = current_time.second\n",
    "    \n",
    "    # Print the greeting message along with the current time\n",
    "    print(f\"Hello, {name}! The current time is {year}-{month:02d}-{day:02d} {hour:02d}:{minute:02d}:{second:02d}.\")\n",
    "\n",
    "# Example usage:\n",
    "greet_with_time(\"Alice\")\n"
   ]
  },
  {
   "cell_type": "code",
   "execution_count": 19,
   "id": "84dd90b1",
   "metadata": {},
   "outputs": [
    {
     "name": "stdout",
     "output_type": "stream",
     "text": [
      "The average is: 10.0\n"
     ]
    }
   ],
   "source": [
    "#Function with Multiple Parameters\n",
    "def calculate_average(num1, num2, num3):\n",
    "    # Calculate the average\n",
    "    average = (num1 + num2 + num3) / 3\n",
    "    return average\n",
    "\n",
    "# Example usage:\n",
    "result = calculate_average(5, 10, 15)\n",
    "print(\"The average is:\", result)\n"
   ]
  },
  {
   "cell_type": "code",
   "execution_count": 20,
   "id": "b9db50d1",
   "metadata": {},
   "outputs": [
    {
     "name": "stdout",
     "output_type": "stream",
     "text": [
      "Original Price: $100\n",
      "Final Price with Default Discount (10%): $90.0\n"
     ]
    }
   ],
   "source": [
    "#default arguments\n",
    "def calculate_discount(price, discount_percentage=10):\n",
    "    # Calculate the discount amount\n",
    "    discount_amount = (price * discount_percentage) / 100\n",
    "    \n",
    "    # Calculate the final price after applying the discount\n",
    "    final_price = price - discount_amount\n",
    "    \n",
    "    return final_price\n",
    "\n",
    "# Example usage:\n",
    "original_price = 100\n",
    "final_price_with_discount = calculate_discount(original_price)\n",
    "\n",
    "print(f\"Original Price: ${original_price}\")\n",
    "print(f\"Final Price with Default Discount (10%): ${final_price_with_discount}\")\n"
   ]
  },
  {
   "cell_type": "code",
   "execution_count": 21,
   "id": "13c242c3",
   "metadata": {},
   "outputs": [
    {
     "name": "stdout",
     "output_type": "stream",
     "text": [
      "Name: Alice\n",
      "Age: 30\n",
      "City: New York\n"
     ]
    }
   ],
   "source": [
    "#Keyword Arguments\n",
    "def print_info(name, age, city):\n",
    "    # Print the information\n",
    "    print(f\"Name: {name}\")\n",
    "    print(f\"Age: {age}\")\n",
    "    print(f\"City: {city}\")\n",
    "\n",
    "# Example usage:\n",
    "print_info(name=\"Alice\", age=30, city=\"New York\")\n"
   ]
  },
  {
   "cell_type": "code",
   "execution_count": 22,
   "id": "2f0e5c0e",
   "metadata": {},
   "outputs": [
    {
     "name": "stdout",
     "output_type": "stream",
     "text": [
      "The maximum value is: 8\n",
      "The maximum value is: None\n"
     ]
    }
   ],
   "source": [
    "#Variable-Length Arguments\n",
    "def find_max(numbers):\n",
    "    if numbers:\n",
    "        return max(numbers)\n",
    "    else:\n",
    "        return None \n",
    "# Example usage:\n",
    "max_value = find_max([3, 5, 7, 2, 8, 6])\n",
    "print(f\"The maximum value is: {max_value}\")\n",
    "\n",
    "# Example with an empty list:\n",
    "max_value_empty = find_max([])\n",
    "print(f\"The maximum value is: {max_value_empty}\")\n"
   ]
  },
  {
   "cell_type": "code",
   "execution_count": 26,
   "id": "f0029bc7",
   "metadata": {},
   "outputs": [
    {
     "name": "stdout",
     "output_type": "stream",
     "text": [
      "The factorial of 7 is: 5040\n"
     ]
    }
   ],
   "source": [
    "#Recursive Function\n",
    "def factorial(n):\n",
    "    if n == 0 or n == 1:\n",
    "        return 1\n",
    "    else:\n",
    "        return n * factorial(n - 1)\n",
    "\n",
    "# Example usage:\n",
    "result = factorial(7)\n",
    "print(f\"The factorial of 7 is: {result}\")\n"
   ]
  },
  {
   "cell_type": "code",
   "execution_count": 27,
   "id": "586ecfef",
   "metadata": {},
   "outputs": [
    {
     "name": "stdout",
     "output_type": "stream",
     "text": [
      "Squared numbers: [1, 4, 9, 16, 25]\n"
     ]
    }
   ],
   "source": [
    "#Function as an Argument\n",
    "def apply_function(fun, numbers):\n",
    "    return [fun(num) for num in numbers]\n",
    "\n",
    "# Example usage:\n",
    "def square(x):\n",
    "    return x * x\n",
    "\n",
    "# List of numbers\n",
    "numbers = [1, 2, 3, 4, 5]\n",
    "squared_numbers = apply_function(square, numbers)\n",
    "\n",
    "print(f\"Squared numbers: {squared_numbers}\")\n"
   ]
  },
  {
   "cell_type": "code",
   "execution_count": 29,
   "id": "c4b0eed5",
   "metadata": {},
   "outputs": [
    {
     "name": "stdout",
     "output_type": "stream",
     "text": [
      "The square of 14 is: 196\n"
     ]
    }
   ],
   "source": [
    "#Lambda Functions\n",
    "def square_def(x):\n",
    "    return x * x\n",
    "square_lambda = lambda x: x * x\n",
    "\n",
    "result_lambda = square_lambda(14)\n",
    "print(f\"The square of 14 is: {result_lambda}\")\n"
   ]
  },
  {
   "cell_type": "code",
   "execution_count": 30,
   "id": "e7130476",
   "metadata": {},
   "outputs": [
    {
     "name": "stdout",
     "output_type": "stream",
     "text": [
      "Squared numbers: [1, 9, 25, 49, 81]\n"
     ]
    }
   ],
   "source": [
    "#Higher-Order Functions\n",
    "def apply_operation(func, numbers):\n",
    "    return [func(num) for num in numbers]\n",
    "\n",
    "# Example usage:\n",
    "def square(x):\n",
    "    return x * x\n",
    "\n",
    "numbers = [1, 3, 5, 7, 9]\n",
    "squared_numbers = apply_operation(square, numbers)\n",
    "print(f\"Squared numbers: {squared_numbers}\")\n"
   ]
  },
  {
   "cell_type": "code",
   "execution_count": 32,
   "id": "416ea66a",
   "metadata": {},
   "outputs": [
    {
     "name": "stdout",
     "output_type": "stream",
     "text": [
      "Execution time: 2.0001 seconds\n"
     ]
    }
   ],
   "source": [
    "#Function Decorators\n",
    "import time\n",
    "def measure_time(func):\n",
    "    def inner_func():\n",
    "        start_time = time.time()  \n",
    "        func() \n",
    "        end_time = time.time() \n",
    "        print(f\"Execution time: {end_time - start_time:.4f} seconds\")\n",
    "    return inner_func\n",
    "\n",
    "def example_function():\n",
    "    time.sleep(2)  \n",
    "decorated_function = measure_time(example_function)\n",
    "decorated_function()\n"
   ]
  },
  {
   "cell_type": "code",
   "execution_count": null,
   "id": "d7bd6649",
   "metadata": {},
   "outputs": [],
   "source": []
  }
 ],
 "metadata": {
  "kernelspec": {
   "display_name": "Python 3 (ipykernel)",
   "language": "python",
   "name": "python3"
  },
  "language_info": {
   "codemirror_mode": {
    "name": "ipython",
    "version": 3
   },
   "file_extension": ".py",
   "mimetype": "text/x-python",
   "name": "python",
   "nbconvert_exporter": "python",
   "pygments_lexer": "ipython3",
   "version": "3.11.5"
  }
 },
 "nbformat": 4,
 "nbformat_minor": 5
}
